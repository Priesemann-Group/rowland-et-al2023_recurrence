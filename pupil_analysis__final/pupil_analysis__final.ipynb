{
 "cells": [
  {
   "cell_type": "code",
   "execution_count": 1,
   "id": "b87491e1-7463-49cd-9ca0-75d504b34d19",
   "metadata": {},
   "outputs": [],
   "source": [
    "%matplotlib inline"
   ]
  },
  {
   "cell_type": "code",
   "execution_count": 2,
   "id": "2967c795-c0f8-4d4f-84b4-7b9b148acd66",
   "metadata": {},
   "outputs": [],
   "source": [
    "import tifffile\n",
    "import napari\n",
    "import skimage\n",
    "import matplotlib.pyplot as plt\n",
    "import numpy as np\n",
    "import scipy\n",
    "import PIL\n",
    "from matplotlib.patches import Ellipse\n",
    "import os\n",
    "from napari_animation import Animation\n",
    "import cv2\n",
    "import matplotlib"
   ]
  },
  {
   "cell_type": "code",
   "execution_count": 3,
   "id": "74bb4f2e-6625-4a1d-80d7-487e077f6b1a",
   "metadata": {},
   "outputs": [],
   "source": [
    "def dilate_multiple(original_img, n_dilations):\n",
    "    # perform multiple dilations in a row\n",
    "    dilated_img = np.copy(original_img)\n",
    "    for k in range(n_dilations):\n",
    "        dilated_img = skimage.morphology.binary_dilation(dilated_img)\n",
    "    return dilated_img"
   ]
  },
  {
   "cell_type": "code",
   "execution_count": 4,
   "id": "3ac8cf0c-69b1-4ae0-9a40-242f6caa14b3",
   "metadata": {},
   "outputs": [],
   "source": [
    "def minimize_stack_func(sequence_element, param_array):\n",
    "    frame = sequence_element\n",
    "    \n",
    "    return_list = []\n",
    "    \n",
    "    (a, b, alpha, x_0, y_0) = param_array\n",
    "    \n",
    "    res = scipy.optimize.minimize(minimize_frame_func, \n",
    "        x0=np.asarray((a_0,b_0,alpha_0,x_0,y_0)), \n",
    "        args={\"frame\":frame, \"norm_ord\":0}, \n",
    "        method='Nelder-Mead',\n",
    "        options={\"maxiter\":1000})\n",
    "    \n",
    "    return_list.append(res['fun'])\n",
    "    \n",
    "    return_list.append(res['x'][0])\n",
    "    return_list.append(res['x'][1])\n",
    "    \n",
    "    return_list.append(res['x'][2])\n",
    "    \n",
    "    return_list.append(res['x'][3])\n",
    "    return_list.append(res['x'][4])\n",
    "    \n",
    "    return_list.append(res['success'])\n",
    "    \n",
    "    return return_list"
   ]
  },
  {
   "cell_type": "code",
   "execution_count": null,
   "id": "37f82db4",
   "metadata": {},
   "outputs": [],
   "source": [
    "def minimize_frame_func(param_array, args_dict, r_min=1, r_max=3):\n",
    "    # takes a (heavily thresholded) frame and a regularization order as args,\n",
    "    # ellipse parameters as parameters and computes a negative score\n",
    "    # the lower negative_score, the better the ellipse fits the frame\n",
    "    (a, b, alpha, x_0, y_0) = param_array\n",
    "    a = int(a)\n",
    "    b = int(b)\n",
    "    x_0 = int(x_0)\n",
    "    y_0 = int(y_0)\n",
    "\n",
    "    frame = args_dict['frame']\n",
    "    norm_ord = args_dict['norm_ord']\n",
    "\n",
    "    if (a <= 10) or (b <= 10) or (x_0 <= 10) or (y_0 <= 10):\n",
    "        negative_score = 0\n",
    "\n",
    "    elif (a/b<r_min) or (a/b>r_max):\n",
    "        negative_score = 0\n",
    "    \n",
    "    else:\n",
    "        #negative_score = -1*inner_loop(frame, a, b, alpha, center=(x_0,y_0), norm_ord=norm_ord)\n",
    "        negative_score = -1*inner_loop(frame, a, b, alpha)\n",
    "    \n",
    "    return negative_score"
   ]
  },
  {
   "cell_type": "code",
   "execution_count": null,
   "id": "9e664bfe",
   "metadata": {},
   "outputs": [],
   "source": [
    "def inner_loop(frame, a, b, alpha, center=(80,90), norm_ord=2):\n",
    "    # creates the ellipse in question and computes a positive score,\n",
    "    # which for norm_ord=2 should be a correlation between the frame and ellipse img\n",
    "    if len(frame.shape) < 2:\n",
    "        score = 0\n",
    "    else:\n",
    "        ellipse_img = np.zeros_like(frame)\n",
    "        rr, cc = skimage.draw.ellipse(center[0], center[1], a, b, rotation=np.pi*alpha/180,\n",
    "            shape=ellipse_img.shape)\n",
    "        ellipse_img[rr, cc] = 1\n",
    "\n",
    "        score = np.linalg.norm(np.multiply(ellipse_img.ravel(), frame.ravel()), ord=norm_ord) / np.sqrt(\n",
    "                np.linalg.norm(ellipse_img.ravel(), ord=norm_ord) * np.linalg.norm(frame.ravel(), ord=norm_ord))\n",
    "\n",
    "    return score"
   ]
  },
  {
   "cell_type": "code",
   "execution_count": null,
   "id": "13682472",
   "metadata": {},
   "outputs": [],
   "source": [
    "# import whole video\n",
    "\n",
    "video_path = \"/data.nst/loidolt/packer_data/pupil_imaging/\"\n",
    "video_name = \"2021-03-10_RL123_pupil_2021-03-10-185442_cropped\"\n",
    "video_extension = \".avi\"\n",
    "\n",
    "if video_extension == '.tif':\n",
    "    tif_path = os.path.join(video_path, video_name+video_extension)\n",
    "    video_stack = tifffile.imread(tif_path)\n",
    "\n",
    "elif video_extension == '.avi':\n",
    "    video_path = os.path.join(video_path, video_name+video_extension)\n",
    "    cap = cv2.VideoCapture(video_path)\n",
    "    ret = True\n",
    "\n",
    "    video_frames = []\n",
    "    while ret:\n",
    "        ret, video_img = cap.read() # read one frame from the 'capture' object; img is (H, W, C)\n",
    "        if ret:\n",
    "            video_frames.append(video_img)\n",
    "    video_stack = np.stack(video_frames, axis=0)[:,:,:,0] # dimensions (T, H, W, C) - drop last two of C because this\n",
    "\n",
    "else:\n",
    "    pass\n",
    "\n",
    "num_frames = video_stack.shape[0]"
   ]
  },
  {
   "cell_type": "code",
   "execution_count": null,
   "id": "19186c39",
   "metadata": {},
   "outputs": [],
   "source": [
    "# match histograms to make grey levels comparable across different frames, \n",
    "# reference frame should be a \"dark\" one where it's very hard to make out the pupil\n",
    "\n",
    "#use this for 2021-03-10_RL117\n",
    "#reference_frame = restored_video[4824]\n",
    "\n",
    "#use this for 2021-03-10_RL123\n",
    "reference_frame = video_stack[9084]\n",
    "\n",
    "\n",
    "##use this for 2021-03-09_RL117\n",
    "#reference_frame = video_stack[9078]\n",
    "\n",
    "\n",
    "rescaled_stack = np.zeros_like(video_stack)\n",
    "for i_frame in range(num_frames):\n",
    "    rescaled_stack[i_frame] = skimage.exposure.match_histograms(video_stack[i_frame], reference_frame)"
   ]
  },
  {
   "cell_type": "code",
   "execution_count": null,
   "id": "a7a96d8f",
   "metadata": {},
   "outputs": [],
   "source": [
    "# rescale image so that only the \"pupil-dark\" frmaes are left (they are sparse)\n",
    "\n",
    "## 2021-03-10_RL123\n",
    "in_range = (0,10)\n",
    "\n",
    "new_substack = skimage.exposure.rescale_intensity(rescaled_stack, \n",
    "                                                  in_range=in_range, out_range=(0,255))\n",
    "\n",
    "new_substack[new_substack==255] = 0"
   ]
  },
  {
   "cell_type": "code",
   "execution_count": null,
   "id": "b4d1e70a",
   "metadata": {},
   "outputs": [],
   "source": [
    "# choose initial conditions for ellipse\n",
    "## 2021-03-10_RL123\n",
    "x_0, y_0 = 80, 90\n",
    "a_0, b_0 = 60, 40\n",
    "alpha_0 = 45\n",
    "\n",
    "# ellipse elipse-parameter arrays\n",
    "f_array = np.zeros(num_frames)\n",
    "\n",
    "axes_array = np.zeros((num_frames,2))\n",
    "center_array = np.zeros((num_frames,2))\n",
    "alpha_array = np.zeros(num_frames)\n",
    "\n",
    "binary_array = np.zeros(num_frames, dtype=bool)\n",
    "\n",
    "for i_frame in range(100):\n",
    "    # compute optimal ellipse\n",
    "    res = scipy.optimize.minimize(minimize_frame_func, \n",
    "        x0=np.asarray((a_0,b_0,alpha_0,x_0,y_0)), \n",
    "        args={\"frame\":new_substack[i_frame], \"norm_ord\":0}, \n",
    "        method='Nelder-Mead',\n",
    "        options={\"maxiter\":1000})\n",
    "    \n",
    "    f_array[i_frame] = res['fun']\n",
    "    \n",
    "    axes_array[i_frame][0] = res['x'][0]\n",
    "    axes_array[i_frame][1] = res['x'][1]\n",
    "    \n",
    "    alpha_array[i_frame] = res['x'][2]\n",
    "    \n",
    "    center_array[i_frame][0] = res['x'][3]\n",
    "    center_array[i_frame][1] = res['x'][4]\n",
    "    \n",
    "    binary_array[i_frame] = res['success']"
   ]
  },
  {
   "cell_type": "code",
   "execution_count": null,
   "id": "1b82606a",
   "metadata": {},
   "outputs": [],
   "source": [
    "from dask.distributed import Client, LocalCluster"
   ]
  },
  {
   "cell_type": "code",
   "execution_count": null,
   "id": "e7490bbc",
   "metadata": {},
   "outputs": [],
   "source": [
    "cluster = LocalCluster()"
   ]
  },
  {
   "cell_type": "code",
   "execution_count": null,
   "id": "6bdb4032",
   "metadata": {},
   "outputs": [],
   "source": [
    "client = Client(cluster)"
   ]
  },
  {
   "cell_type": "code",
   "execution_count": null,
   "id": "0f269c03-a962-4ce0-bf7a-83b304931113",
   "metadata": {},
   "outputs": [],
   "source": [
    "x_0, y_0 = 80, 90\n",
    "a_0, b_0 = 60, 40\n",
    "alpha_0 = 45\n",
    "\n",
    "param_array = (a_0, b_0, alpha_0, x_0, y_0)\n",
    "\n",
    "res_futures = client.map(minimize_stack_func, new_substack, param_array=param_array)"
   ]
  },
  {
   "cell_type": "code",
   "execution_count": null,
   "id": "4314ca0a",
   "metadata": {},
   "outputs": [],
   "source": [
    "res_list = client.gather(res_futures)"
   ]
  },
  {
   "cell_type": "code",
   "execution_count": null,
   "id": "6dd99dee-58af-422e-8b0a-9a486e91427d",
   "metadata": {},
   "outputs": [],
   "source": [
    "res_array = np.asarray(res_list)\n",
    "\n",
    "f_array = res_array[:,0]\n",
    "a_array = res_array[:,1]\n",
    "b_array = res_array[:,2]\n",
    "alpha_array = res_array[:,3]\n",
    "x0_array = res_array[:,4]\n",
    "y0_array = res_array[:,5]\n",
    "success_array = res_array[:,6]"
   ]
  },
  {
   "cell_type": "code",
   "execution_count": null,
   "id": "4e10f845",
   "metadata": {},
   "outputs": [],
   "source": [
    "plt.plot(res_array[:,1])"
   ]
  },
  {
   "cell_type": "code",
   "execution_count": null,
   "id": "2c69b701",
   "metadata": {},
   "outputs": [],
   "source": [
    "# draw ellipses\n",
    "ellipse_stack = np.zeros_like(new_substack)\n",
    "\n",
    "for i_frame in range(num_frames):\n",
    "    annotated_image = np.zeros_like(new_substack[i_frame])\n",
    "\n",
    "    angle_rad = -1*alpha_array[i_frame] / 180 * np.pi\n",
    "\n",
    "    rr, cc = skimage.draw.ellipse_perimeter(int(x_0), int(y_0), \n",
    "                                            int(a_array[i_frame]), int(b_array[i_frame]), \n",
    "                                            orientation=angle_rad,\n",
    "                                            shape=annotated_image.shape)\n",
    "    annotated_image[rr, cc] = 1\n",
    "    dilated_image = skimage.morphology.dilation(annotated_image, skimage.morphology.disk(radius=1))\n",
    "    ellipse_stack[i_frame] = dilated_image"
   ]
  },
  {
   "cell_type": "code",
   "execution_count": null,
   "id": "1e172f03",
   "metadata": {},
   "outputs": [],
   "source": [
    "# configure path to save annotated videos in\n",
    "annotation_path = './annotated_videos'"
   ]
  },
  {
   "cell_type": "code",
   "execution_count": null,
   "id": "6f614091",
   "metadata": {},
   "outputs": [],
   "source": [
    "# create colour video of mouse face\n",
    "coloured_faces_stack = np.zeros((*rescaled_stack.shape,3))\n",
    "\n",
    "coloured_faces_stack[:,:,:,0] = rescaled_stack\n",
    "coloured_faces_stack[:,:,:,1] = rescaled_stack\n",
    "coloured_faces_stack[:,:,:,2] = rescaled_stack\n",
    "\n",
    "# annotate it with blue/red ellipse for confident/unconfident\n",
    "coloured_faces_stack[:,:,:,0][np.nonzero(ellipse_stack)] = 0\n",
    "coloured_faces_stack[:,:,:,1][np.nonzero(ellipse_stack)] = 0\n",
    "coloured_faces_stack[:,:,:,2][np.nonzero(confident_ellipse_stack)] = 255*confident_ellipse_stack[np.nonzero(confident_ellipse_stack)].ravel()\n",
    "\n",
    "coloured_faces_stack[:,:,:,0][np.nonzero(unconfident_ellipse_stack)] = 255*unconfident_ellipse_stack[np.nonzero(unconfident_ellipse_stack)].ravel()\n",
    "coloured_faces_stack[:,:,:,1][np.nonzero(unconfident_ellipse_stack)] = 0\n",
    "coloured_faces_stack[:,:,:,2][np.nonzero(unconfident_ellipse_stack)] = 0\n",
    "\n",
    "# get video shape\n",
    "video_shape = (coloured_faces_stack.shape[2], coloured_faces_stack.shape[1])\n",
    "\n",
    "# configure video path\n",
    "annotated_video_path = os.path.join(annotation_path, video_name+'MinimallyDaskAnnotated0-10_FixedCenter_allFrames.mp4')\n",
    "\n",
    "# write video\n",
    "video_writer = cv2.VideoWriter(annotated_video_path, \n",
    "    cv2.VideoWriter_fourcc(*'mp4v'), 30, video_shape, True)\n",
    "for i_frame in range(num_frames):\n",
    "    video_frame = cv2.cvtColor(coloured_faces_stack[i_frame].astype(np.uint8), cv2.COLOR_RGB2BGR)\n",
    "    video_writer.write(video_frame)\n",
    "video_writer.release()"
   ]
  },
  {
   "cell_type": "code",
   "execution_count": null,
   "id": "cd6d5aa9",
   "metadata": {},
   "outputs": [],
   "source": [
    "array_path = os.path.join(annotation_path, \n",
    "                          video_name+'MinimallyDaskAnnotated0-10_FixedCenter_allFrames_resArray.npy')\n",
    "\n",
    "np.save(array_path, res_array)"
   ]
  }
 ],
 "metadata": {
  "kernelspec": {
   "display_name": "Python 3",
   "language": "python",
   "name": "python3"
  },
  "language_info": {
   "codemirror_mode": {
    "name": "ipython",
    "version": 3
   },
   "file_extension": ".py",
   "mimetype": "text/x-python",
   "name": "python",
   "nbconvert_exporter": "python",
   "pygments_lexer": "ipython3",
   "version": "3.7.6"
  }
 },
 "nbformat": 4,
 "nbformat_minor": 5
}
