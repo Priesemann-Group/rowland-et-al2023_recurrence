{
 "cells": [
  {
   "cell_type": "code",
   "execution_count": 1,
   "id": "federal-breeding",
   "metadata": {},
   "outputs": [
    {
     "name": "stdout",
     "output_type": "stream",
     "text": [
      "/home/loidolt/RowlandEtAl/popping-off/popoff/popoff/loadpaths.py\n",
      "/home/loidolt/RowlandEtAl/Vape\n"
     ]
    }
   ],
   "source": [
    "import sys\n",
    "sys.path.append(\"../\")\n",
    "import recurrency_estimation as re\n",
    "from tqdm.notebook import tqdm\n",
    "import scipy.stats\n",
    "from dask_jobqueue import SGECluster\n",
    "from dask.distributed import Client, LocalCluster\n",
    "import dask\n",
    "import numpy as np\n",
    "import matplotlib.pyplot as plt\n",
    "import seaborn as sns\n",
    "import pandas as pd\n",
    "\n",
    "import xarray as xr\n",
    "import itertools\n",
    "import time\n",
    "import matplotlib\n",
    "\n",
    "\n",
    "from Session import SessionLite # required to unpickle data\n",
    "from linear_model import PoolAcrossSessions, LinearModel, MultiSessionModel\n",
    "\n",
    "import pop_off_functions as pof\n",
    "import pop_off_plotting as pop\n",
    "\n",
    "from sklearn.decomposition import FactorAnalysis\n",
    "\n",
    "from matplotlib import scale as mscale\n",
    "from matplotlib import transforms as mtransforms\n",
    "from matplotlib.ticker import FixedFormatter, FixedLocator\n",
    "from numpy import ma\n",
    "\n",
    "from scipy.optimize import curve_fit\n",
    "\n",
    "import pingouin as pg"
   ]
  },
  {
   "cell_type": "code",
   "execution_count": 2,
   "id": "804e7597",
   "metadata": {},
   "outputs": [],
   "source": [
    "%load_ext autoreload\n",
    "%autoreload 2"
   ]
  },
  {
   "cell_type": "code",
   "execution_count": 3,
   "id": "nasty-schema",
   "metadata": {},
   "outputs": [],
   "source": [
    "import sys\n",
    "sys.path.append(\"../\")\n",
    "import recurrency_estimation as re"
   ]
  },
  {
   "cell_type": "code",
   "execution_count": 4,
   "id": "elementary-daughter",
   "metadata": {},
   "outputs": [],
   "source": [
    "matplotlib.rcParams.update(matplotlib.rcParamsDefault)\n",
    "matplotlib.rcParams['font.family'] = \"sans-serif\"\n",
    "matplotlib.rcParams[\"figure.figsize\"] = [3.4, 2.7]  # APS single column\n",
    "matplotlib.rcParams[\"figure.dpi\"] = 300  # this primarily affects the size on screen\n",
    "#matplotlib.rcParams['axes.linewidth'] = 0.3\n",
    "matplotlib.rcParams[\"axes.labelcolor\"] = \"black\"\n",
    "matplotlib.rcParams[\"axes.edgecolor\"] = \"black\"\n",
    "matplotlib.rcParams[\"xtick.color\"] = \"black\"\n",
    "matplotlib.rcParams[\"ytick.color\"] = \"black\"\n",
    "matplotlib.rcParams[\"xtick.labelsize\"] = 10\n",
    "matplotlib.rcParams[\"ytick.labelsize\"] = 10\n",
    "matplotlib.rcParams[\"axes.labelsize\"] = 10\n",
    "matplotlib.rcParams[\"axes.titlesize\"]= 10\n",
    "matplotlib.rcParams[\"legend.fontsize\"] = 10\n",
    "matplotlib.rcParams[\"legend.title_fontsize\"] = 10\n",
    "matplotlib.rcParams[\"axes.spines.right\"] = False\n",
    "matplotlib.rcParams[\"axes.spines.top\"] = False"
   ]
  },
  {
   "cell_type": "code",
   "execution_count": 5,
   "id": "08d0bf91",
   "metadata": {},
   "outputs": [],
   "source": [
    "color_tt = {'hit': '#117733', 'miss': '#882255', 'fp': '#88CCEE', 'cr': '#DDCC77',\n",
    "            'Hit': '#117733', 'Miss': '#882255', 'FP': '#88CCEE', 'CR': '#DDCC77',\n",
    "            'urh': '#44AA99', 'arm': '#AA4499', 'spont': '#332288', 'prereward': '#332288', \n",
    "            'reward\\nonly': '#332288', 'Reward\\nonly': '#332288',\n",
    "            'pre_reward': '#332288', 'Reward': '#332288', 'reward only': '#332288', 'rew. only': '#332288', 'hit&miss': 'k', \n",
    "            'fp&cr': 'k', 'photostim': sns.color_palette()[6], 'too_': 'grey',\n",
    "            'hit_n1': '#b0eac9', 'hit_n2': '#5ab17f', 'hit_n3': '#117733',\n",
    "            'miss_n1': '#a69098', 'miss_n2': '#985d76', 'miss_n3': '#882255',\n",
    "            'hit_c1': '#b0eac9', 'hit_c2': '#5ab17f', 'hit_c3': '#117733',\n",
    "            'miss_c1': '#a69098', 'miss_c2': '#985d76', 'miss_c3': '#882255'\n",
    "            } "
   ]
  },
  {
   "cell_type": "code",
   "execution_count": 6,
   "id": "fd1c564d",
   "metadata": {},
   "outputs": [
    {
     "name": "stderr",
     "output_type": "stream",
     "text": [
      "/home/loidolt/miniconda3/envs/py37/lib/python3.7/site-packages/outdated/utils.py:18: OutdatedCheckFailedWarning: Failed to check for latest version of package.\n",
      "Set the environment variable OUTDATED_RAISE_EXCEPTION=1 for a full traceback.\n",
      "Set the environment variable OUTDATED_IGNORE=1 to disable these warnings.\n",
      "  **kwargs\n"
     ]
    }
   ],
   "source": [
    "#Figure E8a-o\n",
    "##load data\n",
    "res_dataset1 = xr.load_dataarray(\"../final_data/ML_nfac0-2_results_1000fits.nc\")\n",
    "res_dataset2 = xr.load_dataarray(\"../final_data/ML_nfac3-9_results_1000fits.nc\")\n",
    "res_dataset3 = xr.load_dataarray(\"../final_data/ML_nfac10-15_results_1000fits.nc\")\n",
    "res_dataset4 = xr.load_dataarray(\"../final_data/ML_nfac16-20_results_1000fits.nc\")\n",
    "res_dataset5 = xr.load_dataarray(\"../final_data/ML_nfac21-25_results_1000fits.nc\")\n",
    "\n",
    "res_dataset = xr.concat([res_dataset1, res_dataset2, res_dataset3, res_dataset4, res_dataset5], dim='n_fact')\n",
    "\n",
    "##plot\n",
    "fig = plt.figure(figsize=(7, 10))\n",
    "re.plotting.figure_single_nfact_connecting_lines(res_dataset, fig, n_fact=5)\n",
    "\n",
    "fig.tight_layout()\n",
    "fig.savefig(\"../final_reports/FigureE8a-o.pdf\", dpi=300, bbox_inches=\"tight\")"
   ]
  },
  {
   "cell_type": "code",
   "execution_count": 7,
   "id": "1e400af9",
   "metadata": {},
   "outputs": [],
   "source": [
    "#FigureE8p-r\n",
    "##load data\n",
    "res_dataset1 = xr.load_dataarray(\"../final_data/ML_nfac0-2_S2results_1000fits.nc\")\n",
    "res_dataset2 = xr.load_dataarray(\"../final_data/ML_nfac3-5_S2results_1000fits.nc\")\n",
    "\n",
    "res_dataset = xr.concat([res_dataset1, res_dataset2], dim='n_fact')\n",
    "\n",
    "##plot\n",
    "fig = plt.figure(figsize=(7, 10))\n",
    "re.plotting.figure_single_nfact_connecting_lines(res_dataset, fig, n_fact=5)\n",
    "\n",
    "fig.tight_layout()\n",
    "fig.savefig(\"../final_reports/FigureE8p-r.pdf\", dpi=300, bbox_inches=\"tight\")"
   ]
  },
  {
   "cell_type": "code",
   "execution_count": null,
   "id": "8362a82d",
   "metadata": {},
   "outputs": [],
   "source": []
  }
 ],
 "metadata": {
  "kernelspec": {
   "display_name": "Python 3",
   "language": "python",
   "name": "python3"
  },
  "language_info": {
   "codemirror_mode": {
    "name": "ipython",
    "version": 3
   },
   "file_extension": ".py",
   "mimetype": "text/x-python",
   "name": "python",
   "nbconvert_exporter": "python",
   "pygments_lexer": "ipython3",
   "version": "3.7.6"
  }
 },
 "nbformat": 4,
 "nbformat_minor": 5
}
